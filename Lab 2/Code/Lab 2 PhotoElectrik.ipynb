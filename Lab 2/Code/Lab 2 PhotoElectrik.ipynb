{
 "cells": [
  {
   "cell_type": "code",
   "execution_count": 113,
   "metadata": {},
   "outputs": [],
   "source": [
    "import numpy as np\n",
    "import matplotlib.pyplot as plt\n",
    "import pandas as pd\n",
    "from scipy.optimize import curve_fit\n",
    "from scipy.constants import c\n",
    "from matplotlib import gridspec"
   ]
  },
  {
   "cell_type": "code",
   "execution_count": 14,
   "metadata": {},
   "outputs": [],
   "source": [
    "mm1 = pd.read_csv('../data/part1_try1.csv')\n",
    "mm2 = pd.read_csv('../data/part2.csv')\n",
    "mm3 = pd.read_csv('../data/PART1_2.csv')"
   ]
  },
  {
   "cell_type": "code",
   "execution_count": 31,
   "metadata": {},
   "outputs": [
    {
     "data": {
      "text/html": [
       "<div>\n",
       "<style scoped>\n",
       "    .dataframe tbody tr th:only-of-type {\n",
       "        vertical-align: middle;\n",
       "    }\n",
       "\n",
       "    .dataframe tbody tr th {\n",
       "        vertical-align: top;\n",
       "    }\n",
       "\n",
       "    .dataframe thead th {\n",
       "        text-align: right;\n",
       "    }\n",
       "</style>\n",
       "<table border=\"1\" class=\"dataframe\">\n",
       "  <thead>\n",
       "    <tr style=\"text-align: right;\">\n",
       "      <th></th>\n",
       "      <th>Set</th>\n",
       "      <th>Set.1</th>\n",
       "      <th>Run #1</th>\n",
       "      <th>Run #1.1</th>\n",
       "      <th>Run #1.2</th>\n",
       "      <th>Run #1.3</th>\n",
       "      <th>Run #2</th>\n",
       "      <th>Run #2.1</th>\n",
       "      <th>Run #2.2</th>\n",
       "      <th>Run #2.3</th>\n",
       "      <th>...</th>\n",
       "      <th>Run #4.2</th>\n",
       "      <th>Run #4.3</th>\n",
       "      <th>Run #5</th>\n",
       "      <th>Run #5.1</th>\n",
       "      <th>Run #5.2</th>\n",
       "      <th>Run #5.3</th>\n",
       "      <th>Run #6</th>\n",
       "      <th>Run #6.1</th>\n",
       "      <th>Run #6.2</th>\n",
       "      <th>Run #6.3</th>\n",
       "    </tr>\n",
       "  </thead>\n",
       "  <tbody>\n",
       "    <tr>\n",
       "      <th>1</th>\n",
       "      <td>365</td>\n",
       "      <td>8.21E+14</td>\n",
       "      <td>350.800</td>\n",
       "      <td>-1.086E-14</td>\n",
       "      <td>-0.376</td>\n",
       "      <td>0.38</td>\n",
       "      <td>169.200</td>\n",
       "      <td>5.286E-14</td>\n",
       "      <td>-1.080</td>\n",
       "      <td>1.08</td>\n",
       "      <td>...</td>\n",
       "      <td>-1.495</td>\n",
       "      <td>1.49</td>\n",
       "      <td>54.600</td>\n",
       "      <td>2.551E-14</td>\n",
       "      <td>-1.874</td>\n",
       "      <td>1.87</td>\n",
       "      <td>61.350</td>\n",
       "      <td>2.234E-14</td>\n",
       "      <td>-1.495</td>\n",
       "      <td>1.49</td>\n",
       "    </tr>\n",
       "    <tr>\n",
       "      <th>2</th>\n",
       "      <td>405</td>\n",
       "      <td>7.40E+14</td>\n",
       "      <td>429.100</td>\n",
       "      <td>-1.172E-14</td>\n",
       "      <td>0.927</td>\n",
       "      <td>-0.93</td>\n",
       "      <td>238.400</td>\n",
       "      <td>8.057E-15</td>\n",
       "      <td>-0.920</td>\n",
       "      <td>0.92</td>\n",
       "      <td>...</td>\n",
       "      <td>-1.188</td>\n",
       "      <td>1.19</td>\n",
       "      <td>110.000</td>\n",
       "      <td>-6.958E-14</td>\n",
       "      <td>-1.523</td>\n",
       "      <td>1.52</td>\n",
       "      <td>131.750</td>\n",
       "      <td>1.733E-14</td>\n",
       "      <td>-1.255</td>\n",
       "      <td>1.25</td>\n",
       "    </tr>\n",
       "    <tr>\n",
       "      <th>3</th>\n",
       "      <td>436</td>\n",
       "      <td>6.88E+14</td>\n",
       "      <td>NaN</td>\n",
       "      <td>NaN</td>\n",
       "      <td>NaN</td>\n",
       "      <td>NaN</td>\n",
       "      <td>323.250</td>\n",
       "      <td>-4.236E-14</td>\n",
       "      <td>-0.797</td>\n",
       "      <td>0.80</td>\n",
       "      <td>...</td>\n",
       "      <td>-1.036</td>\n",
       "      <td>1.04</td>\n",
       "      <td>180.750</td>\n",
       "      <td>-6.641E-14</td>\n",
       "      <td>-1.328</td>\n",
       "      <td>1.33</td>\n",
       "      <td>206.850</td>\n",
       "      <td>2.173E-14</td>\n",
       "      <td>-1.039</td>\n",
       "      <td>1.04</td>\n",
       "    </tr>\n",
       "    <tr>\n",
       "      <th>4</th>\n",
       "      <td>546</td>\n",
       "      <td>5.49E+14</td>\n",
       "      <td>NaN</td>\n",
       "      <td>NaN</td>\n",
       "      <td>NaN</td>\n",
       "      <td>NaN</td>\n",
       "      <td>461.950</td>\n",
       "      <td>2.429E-14</td>\n",
       "      <td>-0.170</td>\n",
       "      <td>0.17</td>\n",
       "      <td>...</td>\n",
       "      <td>-0.588</td>\n",
       "      <td>0.59</td>\n",
       "      <td>252.650</td>\n",
       "      <td>1.917E-14</td>\n",
       "      <td>-0.856</td>\n",
       "      <td>0.86</td>\n",
       "      <td>283.200</td>\n",
       "      <td>8.789E-15</td>\n",
       "      <td>-0.601</td>\n",
       "      <td>0.60</td>\n",
       "    </tr>\n",
       "    <tr>\n",
       "      <th>5</th>\n",
       "      <td>577</td>\n",
       "      <td>5.20E+14</td>\n",
       "      <td>NaN</td>\n",
       "      <td>NaN</td>\n",
       "      <td>NaN</td>\n",
       "      <td>NaN</td>\n",
       "      <td>482.250</td>\n",
       "      <td>9.644E-15</td>\n",
       "      <td>-0.109</td>\n",
       "      <td>0.11</td>\n",
       "      <td>...</td>\n",
       "      <td>-0.569</td>\n",
       "      <td>0.57</td>\n",
       "      <td>313.250</td>\n",
       "      <td>-6.348E-15</td>\n",
       "      <td>-0.713</td>\n",
       "      <td>0.71</td>\n",
       "      <td>345.200</td>\n",
       "      <td>-3.174E-15</td>\n",
       "      <td>-0.467</td>\n",
       "      <td>0.47</td>\n",
       "    </tr>\n",
       "  </tbody>\n",
       "</table>\n",
       "<p>5 rows × 26 columns</p>\n",
       "</div>"
      ],
      "text/plain": [
       "   Set     Set.1   Run #1    Run #1.1 Run #1.2 Run #1.3   Run #2    Run #2.1  \\\n",
       "1  365  8.21E+14  350.800  -1.086E-14   -0.376     0.38  169.200   5.286E-14   \n",
       "2  405  7.40E+14  429.100  -1.172E-14    0.927    -0.93  238.400   8.057E-15   \n",
       "3  436  6.88E+14      NaN         NaN      NaN      NaN  323.250  -4.236E-14   \n",
       "4  546  5.49E+14      NaN         NaN      NaN      NaN  461.950   2.429E-14   \n",
       "5  577  5.20E+14      NaN         NaN      NaN      NaN  482.250   9.644E-15   \n",
       "\n",
       "  Run #2.2 Run #2.3   ...    Run #4.2 Run #4.3   Run #5    Run #5.1 Run #5.2  \\\n",
       "1   -1.080     1.08   ...      -1.495     1.49   54.600   2.551E-14   -1.874   \n",
       "2   -0.920     0.92   ...      -1.188     1.19  110.000  -6.958E-14   -1.523   \n",
       "3   -0.797     0.80   ...      -1.036     1.04  180.750  -6.641E-14   -1.328   \n",
       "4   -0.170     0.17   ...      -0.588     0.59  252.650   1.917E-14   -0.856   \n",
       "5   -0.109     0.11   ...      -0.569     0.57  313.250  -6.348E-15   -0.713   \n",
       "\n",
       "  Run #5.3   Run #6    Run #6.1 Run #6.2 Run #6.3  \n",
       "1     1.87   61.350   2.234E-14   -1.495     1.49  \n",
       "2     1.52  131.750   1.733E-14   -1.255     1.25  \n",
       "3     1.33  206.850   2.173E-14   -1.039     1.04  \n",
       "4     0.86  283.200   8.789E-15   -0.601     0.60  \n",
       "5     0.71  345.200  -3.174E-15   -0.467     0.47  \n",
       "\n",
       "[5 rows x 26 columns]"
      ]
     },
     "execution_count": 31,
     "metadata": {},
     "output_type": "execute_result"
    }
   ],
   "source": [
    "datapt1 = mm1.iloc[1:]\n",
    "datapt1"
   ]
  },
  {
   "cell_type": "code",
   "execution_count": 36,
   "metadata": {},
   "outputs": [
    {
     "data": {
      "text/html": [
       "<div>\n",
       "<style scoped>\n",
       "    .dataframe tbody tr th:only-of-type {\n",
       "        vertical-align: middle;\n",
       "    }\n",
       "\n",
       "    .dataframe tbody tr th {\n",
       "        vertical-align: top;\n",
       "    }\n",
       "\n",
       "    .dataframe thead th {\n",
       "        text-align: right;\n",
       "    }\n",
       "</style>\n",
       "<table border=\"1\" class=\"dataframe\">\n",
       "  <thead>\n",
       "    <tr style=\"text-align: right;\">\n",
       "      <th></th>\n",
       "      <th>Wavelength</th>\n",
       "      <th>Time (s)</th>\n",
       "      <th>Current (A)</th>\n",
       "      <th>Voltage (V)</th>\n",
       "      <th>Stopping Potential (V)</th>\n",
       "      <th>Time (s).1</th>\n",
       "      <th>Current (A).1</th>\n",
       "      <th>Voltage (V).1</th>\n",
       "      <th>Stopping Potential (V).1</th>\n",
       "      <th>Time (s).2</th>\n",
       "      <th>Current (A).2</th>\n",
       "      <th>Voltage (V).2</th>\n",
       "      <th>Stopping Potential (V).2</th>\n",
       "    </tr>\n",
       "  </thead>\n",
       "  <tbody>\n",
       "    <tr>\n",
       "      <th>0</th>\n",
       "      <td>365</td>\n",
       "      <td>61.35</td>\n",
       "      <td>2.230000e-14</td>\n",
       "      <td>-1.495</td>\n",
       "      <td>1.49</td>\n",
       "      <td>257.40</td>\n",
       "      <td>5.100000e-14</td>\n",
       "      <td>-1.847</td>\n",
       "      <td>1.85</td>\n",
       "      <td>60.70</td>\n",
       "      <td>2.100000e-14</td>\n",
       "      <td>-1.688</td>\n",
       "      <td>1.69</td>\n",
       "    </tr>\n",
       "    <tr>\n",
       "      <th>1</th>\n",
       "      <td>405</td>\n",
       "      <td>131.75</td>\n",
       "      <td>1.730000e-14</td>\n",
       "      <td>-1.255</td>\n",
       "      <td>1.25</td>\n",
       "      <td>303.70</td>\n",
       "      <td>-5.490000e-15</td>\n",
       "      <td>-1.410</td>\n",
       "      <td>1.41</td>\n",
       "      <td>95.40</td>\n",
       "      <td>5.870000e-14</td>\n",
       "      <td>-1.227</td>\n",
       "      <td>1.23</td>\n",
       "    </tr>\n",
       "    <tr>\n",
       "      <th>2</th>\n",
       "      <td>436</td>\n",
       "      <td>206.85</td>\n",
       "      <td>2.170000e-14</td>\n",
       "      <td>-1.039</td>\n",
       "      <td>1.04</td>\n",
       "      <td>352.70</td>\n",
       "      <td>-2.920000e-14</td>\n",
       "      <td>-1.199</td>\n",
       "      <td>1.20</td>\n",
       "      <td>132.80</td>\n",
       "      <td>3.150000e-14</td>\n",
       "      <td>-1.147</td>\n",
       "      <td>1.15</td>\n",
       "    </tr>\n",
       "    <tr>\n",
       "      <th>3</th>\n",
       "      <td>546</td>\n",
       "      <td>283.20</td>\n",
       "      <td>8.790000e-15</td>\n",
       "      <td>-0.601</td>\n",
       "      <td>0.60</td>\n",
       "      <td>414.20</td>\n",
       "      <td>-2.340000e-14</td>\n",
       "      <td>-0.662</td>\n",
       "      <td>0.66</td>\n",
       "      <td>343.45</td>\n",
       "      <td>2.100000e-14</td>\n",
       "      <td>-0.485</td>\n",
       "      <td>0.49</td>\n",
       "    </tr>\n",
       "    <tr>\n",
       "      <th>4</th>\n",
       "      <td>577</td>\n",
       "      <td>345.20</td>\n",
       "      <td>-3.170000e-15</td>\n",
       "      <td>-0.467</td>\n",
       "      <td>0.47</td>\n",
       "      <td>449.75</td>\n",
       "      <td>-5.090000e-14</td>\n",
       "      <td>-0.547</td>\n",
       "      <td>0.55</td>\n",
       "      <td>370.60</td>\n",
       "      <td>8.910000e-15</td>\n",
       "      <td>-0.400</td>\n",
       "      <td>0.40</td>\n",
       "    </tr>\n",
       "  </tbody>\n",
       "</table>\n",
       "</div>"
      ],
      "text/plain": [
       "   Wavelength  Time (s)   Current (A)  Voltage (V)  Stopping Potential (V)  \\\n",
       "0         365     61.35  2.230000e-14       -1.495                    1.49   \n",
       "1         405    131.75  1.730000e-14       -1.255                    1.25   \n",
       "2         436    206.85  2.170000e-14       -1.039                    1.04   \n",
       "3         546    283.20  8.790000e-15       -0.601                    0.60   \n",
       "4         577    345.20 -3.170000e-15       -0.467                    0.47   \n",
       "\n",
       "   Time (s).1  Current (A).1  Voltage (V).1  Stopping Potential (V).1  \\\n",
       "0      257.40   5.100000e-14         -1.847                      1.85   \n",
       "1      303.70  -5.490000e-15         -1.410                      1.41   \n",
       "2      352.70  -2.920000e-14         -1.199                      1.20   \n",
       "3      414.20  -2.340000e-14         -0.662                      0.66   \n",
       "4      449.75  -5.090000e-14         -0.547                      0.55   \n",
       "\n",
       "   Time (s).2  Current (A).2  Voltage (V).2  Stopping Potential (V).2  \n",
       "0       60.70   2.100000e-14         -1.688                      1.69  \n",
       "1       95.40   5.870000e-14         -1.227                      1.23  \n",
       "2      132.80   3.150000e-14         -1.147                      1.15  \n",
       "3      343.45   2.100000e-14         -0.485                      0.49  \n",
       "4      370.60   8.910000e-15         -0.400                      0.40  "
      ]
     },
     "execution_count": 36,
     "metadata": {},
     "output_type": "execute_result"
    }
   ],
   "source": [
    "data1 = pd.read_csv('../data/datapart1.csv')\n",
    "data2 = pd.read_csv('../data/datapart2.csv')\n",
    "data1.head()"
   ]
  },
  {
   "cell_type": "code",
   "execution_count": 42,
   "metadata": {},
   "outputs": [],
   "source": [
    "stpV40cm = data1['Stopping Potential (V)'].values\n",
    "stpV30cm = data1['Stopping Potential (V).1'].values\n",
    "stpV20cm = data1['Stopping Potential (V).2'].values"
   ]
  },
  {
   "cell_type": "code",
   "execution_count": 50,
   "metadata": {},
   "outputs": [],
   "source": [
    "wvvlen = data1['Wavelength'].values\n",
    "freq = c/(wvvlen*10**-9)"
   ]
  },
  {
   "cell_type": "code",
   "execution_count": 52,
   "metadata": {},
   "outputs": [],
   "source": [
    "freq = freq*10**-12"
   ]
  },
  {
   "cell_type": "code",
   "execution_count": 53,
   "metadata": {},
   "outputs": [],
   "source": [
    "def func(x, m, b):\n",
    "    return  m*x + b"
   ]
  },
  {
   "cell_type": "code",
   "execution_count": 81,
   "metadata": {},
   "outputs": [],
   "source": [
    "A = np.vstack([freq, np.ones(len(freq))]).T\n",
    "m40, b40 = np.linalg.lstsq(A,stpV40cm, rcond=None)[0]\n",
    "m30, b30 = np.linalg.lstsq(A,stpV30cm, rcond=None)[0]\n",
    "m20, b20 = np.linalg.lstsq(A,stpV20cm, rcond=None)[0]\n",
    "frange = np.linspace(freq[4], freq[0])"
   ]
  },
  {
   "cell_type": "code",
   "execution_count": 82,
   "metadata": {},
   "outputs": [
    {
     "data": {
      "image/png": "[encoded data removed]",
      "text/plain": [
       "<Figure size 432x288 with 1 Axes>"
      ]
     },
     "metadata": {},
     "output_type": "display_data"
    }
   ],
   "source": [
    "plt.plot(freq, stpV40cm ,'r.',label = \"40cm distance\")\n",
    "plt.plot(frange, func(frange,m40,b40), 'r-')\n",
    "plt.plot(freq, stpV30cm ,'g.',label = \"40cm distance\")\n",
    "plt.plot(frange, func(frange,m30,b30), 'g-')\n",
    "plt.plot(freq, stpV20cm ,'b.',label = \"40cm distance\")\n",
    "plt.plot(frange, func(frange,m20,b20), 'b-')\n",
    "plt.show()"
   ]
  },
  {
   "cell_type": "code",
   "execution_count": 97,
   "metadata": {},
   "outputs": [],
   "source": [
    "res40 = [x-y for [x,y] in zip(stpV40cm,func(freq,m40,b40))]\n",
    "res30 = [x-y for [x,y] in zip(stpV30cm,func(freq,m30,b30))]\n",
    "res20 = [x-y for [x,y] in zip(stpV20cm,func(freq,m20,b20))]"
   ]
  },
  {
   "cell_type": "code",
   "execution_count": 102,
   "metadata": {},
   "outputs": [
    {
     "data": {
      "text/plain": [
       "0.03651246886334069"
      ]
     },
     "execution_count": 102,
     "metadata": {},
     "output_type": "execute_result"
    }
   ],
   "source": [
    "err = np.std([res40,res30,res20])\n",
    "err"
   ]
  },
  {
   "cell_type": "code",
   "execution_count": 111,
   "metadata": {},
   "outputs": [
    {
     "data": {
      "image/png": "[encoded data removed]",
      "text/plain": [
       "<Figure size 432x288 with 1 Axes>"
      ]
     },
     "metadata": {},
     "output_type": "display_data"
    }
   ],
   "source": [
    "plt.errorbar(freq,res40,err,fmt='r.',ecolor='r')\n",
    "\n",
    "plt.errorbar(freq,res30,err,fmt='g.',ecolor='g')\n",
    "\n",
    "plt.errorbar(freq,res20,err,fmt='b.',ecolor='b')\n",
    "plt.axhline(y=0)\n",
    "plt.show()"
   ]
  },
  {
   "cell_type": "code",
   "execution_count": 124,
   "metadata": {},
   "outputs": [
    {
     "data": {
      "image/png": "[encoded data removed]",
      "text/plain": [
       "<Figure size 288x432 with 2 Axes>"
      ]
     },
     "metadata": {},
     "output_type": "display_data"
    }
   ],
   "source": [
    "fig = plt.figure(1)\n",
    "gridspec.GridSpec(4,4)\n",
    "\n",
    "plt.subplot2grid((4,4), (0,0), colspan=4, rowspan=3)\n",
    "plt.errorbar(freq, stpV40cm,yerr = 0.05,fmt='r.',label = \"40cm distance\")\n",
    "plt.plot(frange, func(frange,m40,b40), 'r-')\n",
    "plt.errorbar(freq, stpV30cm,yerr = 0.05, fmt='g.',label = \"30cm distance\")\n",
    "plt.plot(frange, func(frange,m30,b30), 'g-')\n",
    "plt.errorbar(freq, stpV20cm,yerr = 0.05,fmt='b.',label = \"20cm distance\")\n",
    "plt.plot(frange, func(frange,m20,b20), 'b-')\n",
    "\n",
    "plt.ylabel(\"Stopping Voltage (V)\")\n",
    "plt.xlabel(\"Frequency (THz)\")\n",
    "plt.legend()\n",
    "\n",
    "plt.subplot2grid((4,4), (3,0),colspan=4, rowspan=1)\n",
    "plt.errorbar(freq,res40,yerr = 0.05,fmt='r.',ecolor='r')\n",
    "\n",
    "plt.errorbar(freq,res30,yerr = 0.05,fmt='g.',ecolor='g')\n",
    "\n",
    "plt.errorbar(freq,res20,yerr = 0.05,fmt='b.',ecolor='b')\n",
    "plt.axhline(y=0)\n",
    "plt.xlabel(\"Frequency (THz)\")\n",
    "\n",
    "fig.tight_layout()\n",
    "fig.set_size_inches(w=4,h=6)"
   ]
  },
  {
   "cell_type": "code",
   "execution_count": 125,
   "metadata": {},
   "outputs": [
    {
     "data": {
      "text/html": [
       "<div>\n",
       "<style scoped>\n",
       "    .dataframe tbody tr th:only-of-type {\n",
       "        vertical-align: middle;\n",
       "    }\n",
       "\n",
       "    .dataframe tbody tr th {\n",
       "        vertical-align: top;\n",
       "    }\n",
       "\n",
       "    .dataframe thead th {\n",
       "        text-align: right;\n",
       "    }\n",
       "</style>\n",
       "<table border=\"1\" class=\"dataframe\">\n",
       "  <thead>\n",
       "    <tr style=\"text-align: right;\">\n",
       "      <th></th>\n",
       "      <th>Time (s)</th>\n",
       "      <th>Current (A)</th>\n",
       "      <th>Voltage (V)</th>\n",
       "      <th>Stopping Potential (V)</th>\n",
       "      <th>Time (s).1</th>\n",
       "      <th>Current (A).1</th>\n",
       "      <th>Voltage (V).1</th>\n",
       "      <th>Stopping Potential (V).1</th>\n",
       "      <th>Time (s).2</th>\n",
       "      <th>Current (A).2</th>\n",
       "      <th>Voltage (V).2</th>\n",
       "      <th>Stopping Potential (V).2</th>\n",
       "    </tr>\n",
       "  </thead>\n",
       "  <tbody>\n",
       "    <tr>\n",
       "      <th>0</th>\n",
       "      <td>134.35</td>\n",
       "      <td>1.950000e-11</td>\n",
       "      <td>30.006</td>\n",
       "      <td>-30.01</td>\n",
       "      <td>85.65</td>\n",
       "      <td>7.640000e-11</td>\n",
       "      <td>30.023</td>\n",
       "      <td>-30.02</td>\n",
       "      <td>35.10</td>\n",
       "      <td>3.210000e-10</td>\n",
       "      <td>30.024</td>\n",
       "      <td>-30.02</td>\n",
       "    </tr>\n",
       "    <tr>\n",
       "      <th>1</th>\n",
       "      <td>161.70</td>\n",
       "      <td>1.840000e-11</td>\n",
       "      <td>28.004</td>\n",
       "      <td>-28.00</td>\n",
       "      <td>91.50</td>\n",
       "      <td>7.360000e-11</td>\n",
       "      <td>27.995</td>\n",
       "      <td>-27.99</td>\n",
       "      <td>40.50</td>\n",
       "      <td>3.160000e-10</td>\n",
       "      <td>28.064</td>\n",
       "      <td>-28.06</td>\n",
       "    </tr>\n",
       "    <tr>\n",
       "      <th>2</th>\n",
       "      <td>192.95</td>\n",
       "      <td>1.700000e-11</td>\n",
       "      <td>26.006</td>\n",
       "      <td>-26.01</td>\n",
       "      <td>95.80</td>\n",
       "      <td>7.090000e-11</td>\n",
       "      <td>25.926</td>\n",
       "      <td>-25.93</td>\n",
       "      <td>45.55</td>\n",
       "      <td>3.090000e-10</td>\n",
       "      <td>26.633</td>\n",
       "      <td>-26.63</td>\n",
       "    </tr>\n",
       "    <tr>\n",
       "      <th>3</th>\n",
       "      <td>227.90</td>\n",
       "      <td>1.660000e-11</td>\n",
       "      <td>23.998</td>\n",
       "      <td>-24.00</td>\n",
       "      <td>101.55</td>\n",
       "      <td>6.740000e-11</td>\n",
       "      <td>24.031</td>\n",
       "      <td>-24.03</td>\n",
       "      <td>51.60</td>\n",
       "      <td>3.030000e-10</td>\n",
       "      <td>26.057</td>\n",
       "      <td>-26.06</td>\n",
       "    </tr>\n",
       "    <tr>\n",
       "      <th>4</th>\n",
       "      <td>250.00</td>\n",
       "      <td>1.570000e-11</td>\n",
       "      <td>22.001</td>\n",
       "      <td>-22.00</td>\n",
       "      <td>109.55</td>\n",
       "      <td>6.410000e-11</td>\n",
       "      <td>22.020</td>\n",
       "      <td>-22.02</td>\n",
       "      <td>58.15</td>\n",
       "      <td>2.870000e-10</td>\n",
       "      <td>24.066</td>\n",
       "      <td>-24.07</td>\n",
       "    </tr>\n",
       "  </tbody>\n",
       "</table>\n",
       "</div>"
      ],
      "text/plain": [
       "   Time (s)   Current (A)  Voltage (V)  Stopping Potential (V)  Time (s).1  \\\n",
       "0    134.35  1.950000e-11       30.006                  -30.01       85.65   \n",
       "1    161.70  1.840000e-11       28.004                  -28.00       91.50   \n",
       "2    192.95  1.700000e-11       26.006                  -26.01       95.80   \n",
       "3    227.90  1.660000e-11       23.998                  -24.00      101.55   \n",
       "4    250.00  1.570000e-11       22.001                  -22.00      109.55   \n",
       "\n",
       "   Current (A).1  Voltage (V).1  Stopping Potential (V).1  Time (s).2  \\\n",
       "0   7.640000e-11         30.023                    -30.02       35.10   \n",
       "1   7.360000e-11         27.995                    -27.99       40.50   \n",
       "2   7.090000e-11         25.926                    -25.93       45.55   \n",
       "3   6.740000e-11         24.031                    -24.03       51.60   \n",
       "4   6.410000e-11         22.020                    -22.02       58.15   \n",
       "\n",
       "   Current (A).2  Voltage (V).2  Stopping Potential (V).2  \n",
       "0   3.210000e-10         30.024                    -30.02  \n",
       "1   3.160000e-10         28.064                    -28.06  \n",
       "2   3.090000e-10         26.633                    -26.63  \n",
       "3   3.030000e-10         26.057                    -26.06  \n",
       "4   2.870000e-10         24.066                    -24.07  "
      ]
     },
     "execution_count": 125,
     "metadata": {},
     "output_type": "execute_result"
    }
   ],
   "source": [
    "data2.head()\n"
   ]
  },
  {
   "cell_type": "code",
   "execution_count": 129,
   "metadata": {},
   "outputs": [],
   "source": [
    "i2 = data2['Current (A)'].values\n",
    "v2 = data2['Voltage (V)'].values\n",
    "i4 = data2['Current (A).1'].values\n",
    "v4 = data2['Voltage (V).1'].values\n",
    "i8 = data2['Current (A).2'].values\n",
    "v8 = data2['Voltage (V).2'].values"
   ]
  },
  {
   "cell_type": "code",
   "execution_count": 134,
   "metadata": {},
   "outputs": [
    {
     "data": {
      "image/png": "[encoded data removed]",
      "text/plain": [
       "<Figure size 432x288 with 1 Axes>"
      ]
     },
     "metadata": {},
     "output_type": "display_data"
    }
   ],
   "source": [
    "plt.plot(v2,i2,'r^-')\n",
    "plt.plot(v4,i4,'go-')\n",
    "plt.plot(v8,i8,'b.-')\n",
    "plt.show()"
   ]
  },
  {
   "cell_type": "code",
   "execution_count": 254,
   "metadata": {},
   "outputs": [],
   "source": [
    "vhigh = 0.5\n",
    "vlow = -1\n",
    "i2s = [ x for [x,y] in zip(i2,v2) if y<vhigh and y>vlow]\n",
    "v2s = [ x for x in v2 if x<vhigh and x>vlow]\n",
    "i4s = [ x for [x,y] in zip(i4,v4) if y<vhigh and y>vlow]\n",
    "v4s = [ x for x in v4 if x<vhigh and x>vlow]\n",
    "i8s = [ x for [x,y] in zip(i8,v8) if y<vhigh and y>vlow]\n",
    "v8s = [ x for x in v8 if x<vhigh and x>vlow]"
   ]
  },
  {
   "cell_type": "code",
   "execution_count": 255,
   "metadata": {},
   "outputs": [
    {
     "data": {
      "image/png": "[encoded data removed]",
      "text/plain": [
       "<Figure size 432x288 with 1 Axes>"
      ]
     },
     "metadata": {},
     "output_type": "display_data"
    }
   ],
   "source": [
    "plt.plot(v2s,i2s,'r^-')\n",
    "plt.plot(v4s,i4s,'go-')\n",
    "plt.plot(v8s,i8s,'b.-')\n",
    "plt.show()"
   ]
  },
  {
   "cell_type": "code",
   "execution_count": 256,
   "metadata": {},
   "outputs": [],
   "source": [
    "i2r = [x*10**12 for x in i2s]\n",
    "i4r = [x*10**12 for x in i4s]\n",
    "i8r = [x*10**12 for x in i8s]"
   ]
  },
  {
   "cell_type": "code",
   "execution_count": 258,
   "metadata": {},
   "outputs": [
    {
     "data": {
      "image/png": "[encoded data removed]",
      "text/plain": [
       "<Figure size 576x216 with 2 Axes>"
      ]
     },
     "metadata": {},
     "output_type": "display_data"
    }
   ],
   "source": [
    "fig = plt.figure(1)\n",
    "gridspec.GridSpec(1,2)\n",
    "\n",
    "plt.subplot2grid((1,2), (0,0), colspan=1, rowspan=1)\n",
    "plt.plot(v2,i2*10**12,'r^',label = \"2mm aperture\")\n",
    "plt.plot(v4,i4*10**12,'go',label = \"4mm aperture\")\n",
    "plt.plot(v8,i8*10**12,'b.',label = \"8mm aperture\")\n",
    "\n",
    "plt.ylabel(\"Current (pA)\")\n",
    "plt.xlabel(\"Voltage (V)\")\n",
    "plt.legend()\n",
    "\n",
    "plt.subplot2grid((1,2), (0,1),colspan=1, rowspan=1)\n",
    "plt.plot(v2s,i2r,'r^',label = \"2mm aperture\")\n",
    "plt.plot(v4s,i4r,'go',label = \"4mm aperture\")\n",
    "plt.plot(v8s,i8r,'b.',label = \"8mm aperture\")\n",
    "\n",
    "plt.ylabel(\"Current (pA)\")\n",
    "plt.xlabel(\"Voltage (V)\")\n",
    "plt.legend()\n",
    "\n",
    "fig.tight_layout()\n",
    "fig.set_size_inches(w=8,h=3)"
   ]
  },
  {
   "cell_type": "code",
   "execution_count": null,
   "metadata": {},
   "outputs": [],
   "source": []
  },
  {
   "cell_type": "code",
   "execution_count": 193,
   "metadata": {},
   "outputs": [],
   "source": []
  },
  {
   "cell_type": "code",
   "execution_count": null,
   "metadata": {},
   "outputs": [],
   "source": []
  },
  {
   "cell_type": "code",
   "execution_count": null,
   "metadata": {},
   "outputs": [],
   "source": []
  }
 ],
 "metadata": {
  "kernelspec": {
   "display_name": "Python 3",
   "language": "python",
   "name": "python3"
  },
  "language_info": {
   "codemirror_mode": {
    "name": "ipython",
    "version": 3
   },
   "file_extension": ".py",
   "mimetype": "text/x-python",
   "name": "python",
   "nbconvert_exporter": "python",
   "pygments_lexer": "ipython3",
   "version": "3.6.5"
  }
 },
 "nbformat": 4,
 "nbformat_minor": 2
}

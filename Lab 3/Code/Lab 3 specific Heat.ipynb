{
 "cells": [
  {
   "cell_type": "code",
   "execution_count": 29,
   "metadata": {},
   "outputs": [],
   "source": [
    "import matplotlib.pyplot as plt\n",
    "import numpy as np\n",
    "import pandas as pd\n",
    "from scipy.signal import find_peaks_cwt\n",
    "from scipy.signal import find_peaks\n",
    "from scipy.optimize import curve_fit\n",
    "from scipy.optimize import leastsq\n",
    "from matplotlib import gridspec\n",
    "from uncertainties import ufloat\n",
    "from uncertainties.umath import * \n",
    "from uncertainties import unumpy as unp\n",
    "from scipy"
   ]
  },
  {
   "cell_type": "code",
   "execution_count": 2,
   "metadata": {},
   "outputs": [],
   "source": [
    "air = pd.read_excel('../data/air_data_clement.xlsx')\n",
    "argon = pd.read_excel('../data/argon_data_clement.xlsx')\n",
    "co2 = pd.read_excel('../data/co2_data_clement.xlsx')\n",
    "nitro = pd.read_excel('../data/nitrogen_data_clement.xlsx')"
   ]
  },
  {
   "cell_type": "code",
   "execution_count": 3,
   "metadata": {},
   "outputs": [
    {
     "data": {
      "text/html": [
       "<div>\n",
       "<style scoped>\n",
       "    .dataframe tbody tr th:only-of-type {\n",
       "        vertical-align: middle;\n",
       "    }\n",
       "\n",
       "    .dataframe tbody tr th {\n",
       "        vertical-align: top;\n",
       "    }\n",
       "\n",
       "    .dataframe thead th {\n",
       "        text-align: right;\n",
       "    }\n",
       "</style>\n",
       "<table border=\"1\" class=\"dataframe\">\n",
       "  <thead>\n",
       "    <tr style=\"text-align: right;\">\n",
       "      <th></th>\n",
       "      <th>Internal Pressure P1 (kPa)</th>\n",
       "      <th>Time (s)</th>\n",
       "      <th>Internal Pressure P0 (kPa)</th>\n",
       "      <th>Ambient Pressure (kPa)</th>\n",
       "      <th>Differential Pressure</th>\n",
       "      <th>Calc1 (units)</th>\n",
       "      <th>gamma</th>\n",
       "    </tr>\n",
       "  </thead>\n",
       "  <tbody>\n",
       "    <tr>\n",
       "      <th>0</th>\n",
       "      <td>102.82</td>\n",
       "      <td>843.6</td>\n",
       "      <td>115.22</td>\n",
       "      <td>102.25</td>\n",
       "      <td>12.97</td>\n",
       "      <td>115.22</td>\n",
       "      <td>1.048822</td>\n",
       "    </tr>\n",
       "    <tr>\n",
       "      <th>1</th>\n",
       "      <td>103.35</td>\n",
       "      <td>933.8</td>\n",
       "      <td>117.98</td>\n",
       "      <td>102.22</td>\n",
       "      <td>15.75</td>\n",
       "      <td>117.98</td>\n",
       "      <td>1.083040</td>\n",
       "    </tr>\n",
       "    <tr>\n",
       "      <th>2</th>\n",
       "      <td>102.05</td>\n",
       "      <td>1031.8</td>\n",
       "      <td>111.95</td>\n",
       "      <td>102.23</td>\n",
       "      <td>9.72</td>\n",
       "      <td>111.95</td>\n",
       "      <td>0.980967</td>\n",
       "    </tr>\n",
       "    <tr>\n",
       "      <th>3</th>\n",
       "      <td>102.81</td>\n",
       "      <td>1142.3</td>\n",
       "      <td>115.78</td>\n",
       "      <td>102.24</td>\n",
       "      <td>13.54</td>\n",
       "      <td>115.78</td>\n",
       "      <td>1.046795</td>\n",
       "    </tr>\n",
       "    <tr>\n",
       "      <th>4</th>\n",
       "      <td>102.50</td>\n",
       "      <td>1223.5</td>\n",
       "      <td>114.64</td>\n",
       "      <td>102.23</td>\n",
       "      <td>12.41</td>\n",
       "      <td>114.64</td>\n",
       "      <td>1.023564</td>\n",
       "    </tr>\n",
       "    <tr>\n",
       "      <th>5</th>\n",
       "      <td>102.35</td>\n",
       "      <td>1369.0</td>\n",
       "      <td>112.68</td>\n",
       "      <td>102.21</td>\n",
       "      <td>10.47</td>\n",
       "      <td>112.68</td>\n",
       "      <td>1.014235</td>\n",
       "    </tr>\n",
       "    <tr>\n",
       "      <th>6</th>\n",
       "      <td>100.88</td>\n",
       "      <td>1464.9</td>\n",
       "      <td>106.50</td>\n",
       "      <td>102.22</td>\n",
       "      <td>4.28</td>\n",
       "      <td>106.50</td>\n",
       "      <td>0.756597</td>\n",
       "    </tr>\n",
       "    <tr>\n",
       "      <th>7</th>\n",
       "      <td>101.13</td>\n",
       "      <td>1530.6</td>\n",
       "      <td>107.90</td>\n",
       "      <td>102.24</td>\n",
       "      <td>5.66</td>\n",
       "      <td>107.90</td>\n",
       "      <td>0.831535</td>\n",
       "    </tr>\n",
       "    <tr>\n",
       "      <th>8</th>\n",
       "      <td>101.07</td>\n",
       "      <td>1601.2</td>\n",
       "      <td>107.96</td>\n",
       "      <td>102.23</td>\n",
       "      <td>5.74</td>\n",
       "      <td>107.96</td>\n",
       "      <td>0.826956</td>\n",
       "    </tr>\n",
       "    <tr>\n",
       "      <th>9</th>\n",
       "      <td>101.95</td>\n",
       "      <td>1674.0</td>\n",
       "      <td>111.62</td>\n",
       "      <td>102.22</td>\n",
       "      <td>9.40</td>\n",
       "      <td>111.62</td>\n",
       "      <td>0.970813</td>\n",
       "    </tr>\n",
       "    <tr>\n",
       "      <th>10</th>\n",
       "      <td>NaN</td>\n",
       "      <td>NaN</td>\n",
       "      <td>NaN</td>\n",
       "      <td>NaN</td>\n",
       "      <td>NaN</td>\n",
       "      <td>NaN</td>\n",
       "      <td>0.958332</td>\n",
       "    </tr>\n",
       "    <tr>\n",
       "      <th>11</th>\n",
       "      <td>NaN</td>\n",
       "      <td>NaN</td>\n",
       "      <td>NaN</td>\n",
       "      <td>NaN</td>\n",
       "      <td>NaN</td>\n",
       "      <td>NaN</td>\n",
       "      <td>0.112373</td>\n",
       "    </tr>\n",
       "  </tbody>\n",
       "</table>\n",
       "</div>"
      ],
      "text/plain": [
       "    Internal Pressure P1 (kPa)  Time (s)  Internal Pressure P0 (kPa)  \\\n",
       "0                       102.82     843.6                      115.22   \n",
       "1                       103.35     933.8                      117.98   \n",
       "2                       102.05    1031.8                      111.95   \n",
       "3                       102.81    1142.3                      115.78   \n",
       "4                       102.50    1223.5                      114.64   \n",
       "5                       102.35    1369.0                      112.68   \n",
       "6                       100.88    1464.9                      106.50   \n",
       "7                       101.13    1530.6                      107.90   \n",
       "8                       101.07    1601.2                      107.96   \n",
       "9                       101.95    1674.0                      111.62   \n",
       "10                         NaN       NaN                         NaN   \n",
       "11                         NaN       NaN                         NaN   \n",
       "\n",
       "    Ambient Pressure (kPa)  Differential Pressure  Calc1 (units)     gamma  \n",
       "0                   102.25                  12.97         115.22  1.048822  \n",
       "1                   102.22                  15.75         117.98  1.083040  \n",
       "2                   102.23                   9.72         111.95  0.980967  \n",
       "3                   102.24                  13.54         115.78  1.046795  \n",
       "4                   102.23                  12.41         114.64  1.023564  \n",
       "5                   102.21                  10.47         112.68  1.014235  \n",
       "6                   102.22                   4.28         106.50  0.756597  \n",
       "7                   102.24                   5.66         107.90  0.831535  \n",
       "8                   102.23                   5.74         107.96  0.826956  \n",
       "9                   102.22                   9.40         111.62  0.970813  \n",
       "10                     NaN                    NaN            NaN  0.958332  \n",
       "11                     NaN                    NaN            NaN  0.112373  "
      ]
     },
     "execution_count": 3,
     "metadata": {},
     "output_type": "execute_result"
    }
   ],
   "source": [
    "air"
   ]
  },
  {
   "cell_type": "code",
   "execution_count": 4,
   "metadata": {},
   "outputs": [
    {
     "data": {
      "image/png": "[encoded data removed]",
      "text/plain": [
       "<Figure size 432x288 with 1 Axes>"
      ]
     },
     "metadata": {},
     "output_type": "display_data"
    }
   ],
   "source": [
    "air['gamma'].plot()\n",
    "argon['gamma'].plot()\n",
    "co2['gamma'].plot()\n",
    "nitro['gamma'].plot()\n",
    "plt.show()"
   ]
  },
  {
   "cell_type": "code",
   "execution_count": 5,
   "metadata": {},
   "outputs": [],
   "source": [
    "\n",
    "A = air.values[0:10]\n",
    "B = argon.values[0:10]\n",
    "C = co2.values[0:10]\n",
    "D = nitro.values[0:10]"
   ]
  },
  {
   "cell_type": "code",
   "execution_count": 6,
   "metadata": {},
   "outputs": [],
   "source": [
    "y1 = np.log(A[:,2]/A[:,3])\n",
    "x1 = np.log(A[:,2]/A[:,0])\n",
    "y2 = np.log(B[:,2]/B[:,3])\n",
    "x2 = np.log(B[:,2]/B[:,0])\n",
    "y3 = np.log(C[:,2]/C[:,3])\n",
    "x3 = np.log(C[:,2]/C[:,0])\n",
    "y4 = np.log(D[:,2]/D[:,3])\n",
    "x4 = np.log(D[:,2]/D[:,0])"
   ]
  },
  {
   "cell_type": "code",
   "execution_count": 7,
   "metadata": {},
   "outputs": [],
   "source": [
    "def lin(x,A):\n",
    "    return A*x\n",
    "def lin2(x,A,k):\n",
    "    return A*x+k"
   ]
  },
  {
   "cell_type": "code",
   "execution_count": 8,
   "metadata": {},
   "outputs": [],
   "source": [
    "popt1, pcov1 = curve_fit(lin, x1, y1)\n",
    "popt2, pcov2 = curve_fit(lin, x2, y2)\n",
    "popt3, pcov3 = curve_fit(lin, x3, y3)\n",
    "popt4, pcov4 = curve_fit(lin, x4, y4)\n",
    "\n",
    "m = np.array([popt1,popt2,popt3,popt4])\n",
    "b = np.array([pcov1,pcov2,pcov3,pcov4])\n",
    "err = np.sqrt(b)\n",
    "err = np.reshape(b,4)\n",
    "m = np.reshape(m,4)\n",
    "err2 =0.005"
   ]
  },
  {
   "cell_type": "code",
   "execution_count": 42,
   "metadata": {},
   "outputs": [
    {
     "data": {
      "text/plain": [
       "array([1.00631503, 1.51139884, 1.25551224, 1.0630476 ])"
      ]
     },
     "execution_count": 42,
     "metadata": {},
     "output_type": "execute_result"
    }
   ],
   "source": [
    "res1 = y1 -lin(x1,m[0])\n",
    "res2 = y2 -lin(x2,m[1])\n",
    "res3 = y3 -lin(x3,m[2])\n",
    "res4 = y4 -lin(x4,m[3])\n",
    "err = np.array([np.std(res1),np.std(res2),np.std(res3),np.std(res4)])\n",
    "m"
   ]
  },
  {
   "cell_type": "code",
   "execution_count": 45,
   "metadata": {},
   "outputs": [
    {
     "data": {
      "text/plain": [
       "0.1386030612425124"
      ]
     },
     "execution_count": 45,
     "metadata": {},
     "output_type": "execute_result"
    }
   ],
   "source": [
    "P_0 = np.array([ufloat(x,1) for x in D[:,2]])\n",
    "H = np.array([ufloat(x,1) for x in D[:,3]])\n",
    "P_1 = np.array([ufloat(x,1) for x in D[:,0]])\n",
    "gamma1 = np.array([log(x/y) for [x,y] in zip(P_0,H)])\n",
    "gamma2 = np.array([log(x/y) for [x,y] in zip(P_0,P_1)])\n",
    "gamma = np.array([x/y for [x,y] in zip(gamma1,gamma2)])\n",
    "err = unp.std_devs(gamma)\n",
    "err = np.mean(err)\n",
    "err"
   ]
  },
  {
   "cell_type": "code",
   "execution_count": 46,
   "metadata": {},
   "outputs": [
    {
     "data": {
      "image/png": "[encoded data removed]",
      "text/plain": [
       "<Figure size 432x432 with 2 Axes>"
      ]
     },
     "metadata": {},
     "output_type": "display_data"
    }
   ],
   "source": [
    "fig = plt.figure(1)\n",
    "gridspec.GridSpec(4,4)\n",
    "\n",
    "plt.subplot2grid((4,4), (0,0), colspan=4, rowspan=3)\n",
    "plt.errorbar(x1,y1,err2,fmt= 'r.', label = '$Air$')\n",
    "plt.errorbar(x2,y2,err2, fmt= 'g.', label = '$Argon$')\n",
    "plt.errorbar(x3,y3,err2, fmt= 'k.', label = '$CO_2$')\n",
    "plt.errorbar(x4,y4,err2,  fmt= 'b.', label = '$Nitrogen$')\n",
    "\n",
    "plt.plot(x1,lin(x1,popt1), 'r-')\n",
    "plt.plot(x2,lin(x2,popt2), 'g-')\n",
    "plt.plot(x3,lin(x3,popt3), 'k-')\n",
    "plt.plot(x4,lin(x4,popt4), 'b-')\n",
    "\n",
    "plt.ylabel('$log(\\dfrac{P_0}{H})$')\n",
    "plt.xlabel('$log(\\dfrac{P_0}{P_1})$')\n",
    "plt.legend()\n",
    "\n",
    "plt.subplot2grid((4,4), (3,0),colspan=4, rowspan=1)\n",
    "\n",
    "plt.errorbar(x1,res1,err2,fmt= 'r.', label = '$Air$')\n",
    "plt.errorbar(x2,res2,err2, fmt= 'g.', label = '$Argon$')\n",
    "plt.errorbar(x3,res3,err2, fmt= 'k.', label = '$CO_2$')\n",
    "plt.errorbar(x4,res4,err2,  fmt= 'b.', label = '$Nitrogen$')\n",
    "plt.axhline(y=0)\n",
    "\n",
    "fig.tight_layout()\n",
    "fig.set_size_inches(w=6,h=6)"
   ]
  },
  {
   "cell_type": "code",
   "execution_count": 49,
   "metadata": {},
   "outputs": [
    {
     "data": {
      "text/plain": [
       "array([1.31388795, 1.64676155, 1.26887082, 1.31670653])"
      ]
     },
     "execution_count": 49,
     "metadata": {},
     "output_type": "execute_result"
    }
   ],
   "source": [
    "popt1, pcov1 = curve_fit(lin2, x1, y1)\n",
    "popt2, pcov2 = curve_fit(lin2, x2, y2)\n",
    "popt3, pcov3 = curve_fit(lin2, x3, y3)\n",
    "popt4, pcov4 = curve_fit(lin2, x4, y4)\n",
    "\n",
    "m = np.array([popt1[0],popt2[0],popt3[0],popt4[0]])\n",
    "b = np.array([popt1[1],popt2[1],popt3[1],popt4[1]])\n",
    "b = np.reshape(b,4)\n",
    "m = np.reshape(m,4)\n",
    "m"
   ]
  },
  {
   "cell_type": "code",
   "execution_count": 48,
   "metadata": {},
   "outputs": [],
   "source": [
    "res1 = y1 -lin2(x1,m[0],b[0])\n",
    "res2 = y2 -lin2(x2,m[1],b[1])\n",
    "res3 = y3 -lin2(x3,m[2],b[2])\n",
    "res4 = y4 -lin2(x4,m[3],b[3])\n",
    "err = np.array([np.std(res1),np.std(res2),np.std(res3),np.std(res4)])\n",
    "err2 =0.005"
   ]
  },
  {
   "cell_type": "code",
   "execution_count": null,
   "metadata": {},
   "outputs": [],
   "source": []
  },
  {
   "cell_type": "code",
   "execution_count": 134,
   "metadata": {},
   "outputs": [
    {
     "data": {
      "image/png": "[encoded data removed]",
      "text/plain": [
       "<Figure size 432x432 with 2 Axes>"
      ]
     },
     "metadata": {},
     "output_type": "display_data"
    }
   ],
   "source": [
    "fig = plt.figure(1)\n",
    "gridspec.GridSpec(4,4)\n",
    "\n",
    "plt.subplot2grid((4,4), (0,0), colspan=4, rowspan=3)\n",
    "plt.errorbar(x1,y1,err2,fmt= 'r.', label = '$Air$')\n",
    "plt.errorbar(x2,y2,err2, fmt= 'g.', label = '$Argon$')\n",
    "plt.errorbar(x3,y3,err2, fmt= 'k.', label = '$CO_2$')\n",
    "plt.errorbar(x4,y4,err2,  fmt= 'b.', label = '$Nitrogen$')\n",
    "\n",
    "plt.plot(x1,lin2(x1,m[0],b[0]), 'r-')\n",
    "plt.plot(x2,lin2(x2,m[1],b[1]), 'g-')\n",
    "plt.plot(x3,lin2(x3,m[2],b[2]), 'k-')\n",
    "plt.plot(x4,lin2(x4,m[3],b[3]), 'b-')\n",
    "\n",
    "plt.ylabel('$log(\\dfrac{P_0}{H})$')\n",
    "plt.xlabel('$log(\\dfrac{P_0}{P_1})$')\n",
    "plt.legend()\n",
    "\n",
    "plt.subplot2grid((4,4), (3,0),colspan=4, rowspan=1)\n",
    "\n",
    "plt.errorbar(x1,res1,err2,fmt= 'r.', label = '$Air$')\n",
    "plt.errorbar(x2,res2,err2, fmt= 'g.', label = '$Argon$')\n",
    "plt.errorbar(x3,res3,err2, fmt= 'k.', label = '$CO_2$')\n",
    "plt.errorbar(x4,res4,err2,  fmt= 'b.', label = '$Nitrogen$')\n",
    "plt.axhline(y=0)\n",
    "\n",
    "fig.tight_layout()\n",
    "fig.set_size_inches(w=6,h=6)"
   ]
  },
  {
   "cell_type": "code",
   "execution_count": 113,
   "metadata": {},
   "outputs": [],
   "source": [
    "SH = pd.read_excel('../data/Specific_Heats.xlsx')\n"
   ]
  },
  {
   "cell_type": "code",
   "execution_count": 122,
   "metadata": {},
   "outputs": [],
   "source": [
    "SH = SH.iloc[:,0:3]"
   ]
  },
  {
   "cell_type": "code",
   "execution_count": 171,
   "metadata": {},
   "outputs": [],
   "source": [
    "air = SH.loc[SH['Gas'].isin(['nitrogen','Nitrogen'])]\n",
    "air = air[air!=0]\n",
    "air = air.dropna()\n",
    "spech = air.values[:,1:3]\n"
   ]
  },
  {
   "cell_type": "code",
   "execution_count": 167,
   "metadata": {},
   "outputs": [],
   "source": [
    "val = np.array(spech[:,0])\n",
    "uncer = (np.array(spech[:,1]))**-2"
   ]
  },
  {
   "cell_type": "code",
   "execution_count": 168,
   "metadata": {},
   "outputs": [
    {
     "data": {
      "text/plain": [
       "1.2425153185457074"
      ]
     },
     "execution_count": 168,
     "metadata": {},
     "output_type": "execute_result"
    }
   ],
   "source": [
    "mean = np.average(val, weights=uncer)\n",
    "mean"
   ]
  },
  {
   "cell_type": "code",
   "execution_count": 169,
   "metadata": {},
   "outputs": [
    {
     "data": {
      "text/plain": [
       "0.18622512271966388"
      ]
     },
     "execution_count": 169,
     "metadata": {},
     "output_type": "execute_result"
    }
   ],
   "source": [
    "err = np.sum(uncer)\n",
    "np.std(val)/(np.sqrt(len(val)))"
   ]
  },
  {
   "cell_type": "code",
   "execution_count": 170,
   "metadata": {},
   "outputs": [
    {
     "data": {
      "text/plain": [
       "0.0011529520365108788"
      ]
     },
     "execution_count": 170,
     "metadata": {},
     "output_type": "execute_result"
    }
   ],
   "source": [
    "np.sqrt(1/err)"
   ]
  },
  {
   "cell_type": "code",
   "execution_count": 211,
   "metadata": {},
   "outputs": [
    {
     "data": {
      "text/plain": [
       "(1001, 22)"
      ]
     },
     "execution_count": 211,
     "metadata": {},
     "output_type": "execute_result"
    }
   ],
   "source": [
    "osc = pd.read_excel('../data/ruchhardt.xlsx')\n",
    "osc = osc.values\n",
    "np.shape(osc)"
   ]
  },
  {
   "cell_type": "code",
   "execution_count": 249,
   "metadata": {},
   "outputs": [
    {
     "ename": "SyntaxError",
     "evalue": "invalid syntax (<ipython-input-249-132bed22ca35>, line 1)",
     "output_type": "error",
     "traceback": [
      "\u001b[1;36m  File \u001b[1;32m\"<ipython-input-249-132bed22ca35>\"\u001b[1;36m, line \u001b[1;32m1\u001b[0m\n\u001b[1;33m    T = [0:11]\u001b[0m\n\u001b[1;37m          ^\u001b[0m\n\u001b[1;31mSyntaxError\u001b[0m\u001b[1;31m:\u001b[0m invalid syntax\n"
     ]
    }
   ],
   "source": []
  },
  {
   "cell_type": "code",
   "execution_count": 329,
   "metadata": {},
   "outputs": [
    {
     "data": {
      "image/png": "[encoded data removed]",
      "text/plain": [
       "<Figure size 432x288 with 1 Axes>"
      ]
     },
     "metadata": {},
     "output_type": "display_data"
    }
   ],
   "source": [
    "i = 0\n",
    "n = 500\n",
    "time1 = osc[n:,i]\n",
    "run1 = osc[n:,i+1]\n",
    "\n",
    "peaks, _ = find_peaks(run1)\n",
    "plt.plot(time1,run1)\n",
    "plt.plot(time1[peaks],run1[peaks],'r.')\n",
    "plt.show()"
   ]
  },
  {
   "cell_type": "code",
   "execution_count": 330,
   "metadata": {},
   "outputs": [
    {
     "data": {
      "text/plain": [
       "array([ 13,  73, 133, 193, 254, 315, 376, 436, 497], dtype=int64)"
      ]
     },
     "execution_count": 330,
     "metadata": {},
     "output_type": "execute_result"
    }
   ],
   "source": [
    "peaks"
   ]
  },
  {
   "cell_type": "code",
   "execution_count": 331,
   "metadata": {},
   "outputs": [
    {
     "data": {
      "text/plain": [
       "0.6212500000000001"
      ]
     },
     "execution_count": 331,
     "metadata": {},
     "output_type": "execute_result"
    }
   ],
   "source": [
    "\n",
    "t= (time1[497]-time1[0])/(len(peaks)-1)\n",
    "p = np.array([t])\n",
    "t"
   ]
  },
  {
   "cell_type": "code",
   "execution_count": 410,
   "metadata": {},
   "outputs": [
    {
     "data": {
      "image/png": "[encoded data removed]",
      "text/plain": [
       "<Figure size 432x288 with 1 Axes>"
      ]
     },
     "metadata": {},
     "output_type": "display_data"
    }
   ],
   "source": [
    "i = 20\n",
    "n = 100\n",
    "m = 600\n",
    "time2 = osc[n:m,i]\n",
    "run2 = osc[n:m,i+1]\n",
    "\n",
    "peaks, _ = find_peaks(run2,distance=10)\n",
    "plt.plot(time2,run2)\n",
    "plt.plot(time2[peaks],run2[peaks],'r.')\n",
    "plt.show()"
   ]
  },
  {
   "cell_type": "code",
   "execution_count": 385,
   "metadata": {},
   "outputs": [
    {
     "data": {
      "text/plain": [
       "[0.6128571428571429]"
      ]
     },
     "execution_count": 385,
     "metadata": {},
     "output_type": "execute_result"
    }
   ],
   "source": [
    "T= [(time2[peaks[-1]]-time2[peaks[0]])/(len(peaks)-1)]\n",
    "T"
   ]
  },
  {
   "cell_type": "code",
   "execution_count": 386,
   "metadata": {},
   "outputs": [
    {
     "data": {
      "text/plain": [
       "array([0.62125   , 0.60857143, 0.608     , 0.60666667, 0.60666667,\n",
       "       0.60583333, 0.608     , 0.61      , 0.60444444, 0.61285714])"
      ]
     },
     "execution_count": 386,
     "metadata": {},
     "output_type": "execute_result"
    }
   ],
   "source": [
    "\n",
    "p = np.concatenate((p,T))\n",
    "p"
   ]
  },
  {
   "cell_type": "code",
   "execution_count": 392,
   "metadata": {},
   "outputs": [
    {
     "data": {
      "text/plain": [
       "0.6092289682539682+/-0.004574595205730962"
      ]
     },
     "execution_count": 392,
     "metadata": {},
     "output_type": "execute_result"
    }
   ],
   "source": [
    "T = np.mean(p)\n",
    "dT = np.std(p)\n",
    "uT = ufloat(T,dT)\n",
    "uT"
   ]
  },
  {
   "cell_type": "code",
   "execution_count": 406,
   "metadata": {},
   "outputs": [],
   "source": [
    "mass = ufloat(0.005612,0.000001)\n",
    "diam = ufloat(1.647,0.002)\n",
    "diam = diam*0.01\n",
    "vol = ufloat(0.0092057,0.000008)\n",
    "H = ufloat(102.3,1)\n",
    "H = H*1000"
   ]
  },
  {
   "cell_type": "code",
   "execution_count": 407,
   "metadata": {},
   "outputs": [
    {
     "data": {
      "text/plain": [
       "0.00021304781266153896+/-5.17420310046239e-07"
      ]
     },
     "execution_count": 407,
     "metadata": {},
     "output_type": "execute_result"
    }
   ],
   "source": [
    "Area = np.pi*(diam/2)**2\n",
    "Area"
   ]
  },
  {
   "cell_type": "code",
   "execution_count": 412,
   "metadata": {},
   "outputs": [
    {
     "data": {
      "text/plain": [
       "1.1834320665551545+/-0.021996064726066574"
      ]
     },
     "execution_count": 412,
     "metadata": {},
     "output_type": "execute_result"
    }
   ],
   "source": [
    "gamma = (4*(np.pi**2)*mass*vol)/(Area**2*H*(uT**2))\n",
    "gamma"
   ]
  },
  {
   "cell_type": "code",
   "execution_count": 411,
   "metadata": {},
   "outputs": [
    {
     "data": {
      "text/plain": [
       "1.1834320665551545+/-0.021996064726066574"
      ]
     },
     "execution_count": 411,
     "metadata": {},
     "output_type": "execute_result"
    }
   ],
   "source": [
    "gamma"
   ]
  },
  {
   "cell_type": "code",
   "execution_count": null,
   "metadata": {},
   "outputs": [],
   "source": []
  }
 ],
 "metadata": {
  "kernelspec": {
   "display_name": "Python 3",
   "language": "python",
   "name": "python3"
  },
  "language_info": {
   "codemirror_mode": {
    "name": "ipython",
    "version": 3
   },
   "file_extension": ".py",
   "mimetype": "text/x-python",
   "name": "python",
   "nbconvert_exporter": "python",
   "pygments_lexer": "ipython3",
   "version": "3.6.5"
  }
 },
 "nbformat": 4,
 "nbformat_minor": 2
}

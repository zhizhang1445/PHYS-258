{
 "cells": [
  {
   "cell_type": "code",
   "execution_count": 15,
   "metadata": {
    "collapsed": true
   },
   "outputs": [],
   "source": [
    "import numpy as np\n",
    "import matplotlib.pyplot as plt"
   ]
  },
  {
   "cell_type": "code",
   "execution_count": 16,
   "metadata": {
    "collapsed": true
   },
   "outputs": [],
   "source": [
    "run1 = np.transpose(np.loadtxt('../data/pt3_run1.csv',delimiter = ','));\n",
    "run2 = np.transpose(np.loadtxt('../data/pt3_run2.csv',delimiter = ','));\n",
    "run3 = np.transpose(np.loadtxt('../data/pt3_run3.csv',delimiter = ','));"
   ]
  },
  {
   "cell_type": "code",
   "execution_count": 19,
   "metadata": {},
   "outputs": [
    {
     "data": {
      "image/png": "[encoded data removed]",
      "text/plain": [
       "<matplotlib.figure.Figure at 0x23f765ff2e8>"
      ]
     },
     "metadata": {},
     "output_type": "display_data"
    }
   ],
   "source": [
    "figure, subplots = plt.subplots(nrows = 1, ncols = 2,figsize=(10, 5))\n",
    "plot1, plot2 = subplots\n",
    "runNames = ['405nm','365nm','436nm']\n",
    "plot1.plot(run1[0,:],run1[1,:],'.',label = runNames[0])\n",
    "plot1.plot(run2[0,:],run2[1,:],'.',label  = runNames[1])\n",
    "plot1.plot(run3[0,:],run3[1,:],'.',label = runNames[2])\n",
    "plot1.set_xlabel(\"Voltage(V)\")\n",
    "plot1.set_ylabel(\"Intensity(pA)\")\n",
    "plot2.axvline(-1.3, color='yellow')\n",
    "plot2.axvline(-1,color = 'green')\n",
    "plot2.axvline(-0.6,color = 'blue')\n",
    "plot1.axvline(-1.3, color='yellow')\n",
    "plot1.axvline(-1,color = 'green')\n",
    "plot1.axvline(-0.6,color = 'blue')\n",
    "plot1.legend();\n",
    "plot2.plot(run1[0,5:],run1[1,5:],'.',label = runNames[0])\n",
    "plot2.plot(run2[0,5:],run2[1,5:],'.',label = runNames[1])\n",
    "plot2.plot(run3[0,5:],run3[1,5:],'.', label = runNames[2])\n",
    "plot2.set_xlabel(\"Voltage(V)\")\n",
    "plot2.legend();\n",
    "plt.show();"
   ]
  },
  {
   "cell_type": "code",
   "execution_count": 18,
   "metadata": {},
   "outputs": [
    {
     "data": {
      "text/plain": [
       "array([ 1.997,  0.003, -0.103, -0.203, -0.405, -0.5  , -0.601, -0.697,\n",
       "       -0.797, -0.899, -1.001])"
      ]
     },
     "execution_count": 18,
     "metadata": {},
     "output_type": "execute_result"
    }
   ],
   "source": [
    "run1[0,4:]\n"
   ]
  }
 ],
 "metadata": {
  "kernelspec": {
   "display_name": "Python 3",
   "language": "python",
   "name": "python3"
  },
  "language_info": {
   "codemirror_mode": {
    "name": "ipython",
    "version": 3
   },
   "file_extension": ".py",
   "mimetype": "text/x-python",
   "name": "python",
   "nbconvert_exporter": "python",
   "pygments_lexer": "ipython3",
   "version": "3.6.5"
  },
  "varInspector": {
   "cols": {
    "lenName": 16,
    "lenType": 16,
    "lenVar": 40
   },
   "kernels_config": {
    "python": {
     "delete_cmd_postfix": "",
     "delete_cmd_prefix": "del ",
     "library": "var_list.py",
     "varRefreshCmd": "print(var_dic_list())"
    },
    "r": {
     "delete_cmd_postfix": ") ",
     "delete_cmd_prefix": "rm(",
     "library": "var_list.r",
     "varRefreshCmd": "cat(var_dic_list()) "
    }
   },
   "types_to_exclude": [
    "module",
    "function",
    "builtin_function_or_method",
    "instance",
    "_Feature"
   ],
   "window_display": true
  }
 },
 "nbformat": 4,
 "nbformat_minor": 2
}
